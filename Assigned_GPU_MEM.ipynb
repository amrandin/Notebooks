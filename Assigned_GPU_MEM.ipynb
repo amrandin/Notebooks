{
  "nbformat": 4,
  "nbformat_minor": 0,
  "metadata": {
    "colab": {
      "name": "Assigned_GPU_MEM.ipynb",
      "provenance": [],
      "private_outputs": true,
      "collapsed_sections": [],
      "authorship_tag": "ABX9TyNxLD93MdWXKgmo2prr9kN5",
      "include_colab_link": true
    },
    "kernelspec": {
      "name": "python3",
      "display_name": "Python 3"
    }
  },
  "cells": [
    {
      "cell_type": "markdown",
      "metadata": {
        "id": "view-in-github",
        "colab_type": "text"
      },
      "source": [
        "<a href=\"https://colab.research.google.com/github/amrandin/Notebooks/blob/master/Assigned_GPU_MEM.ipynb\" target=\"_parent\"><img src=\"https://colab.research.google.com/assets/colab-badge.svg\" alt=\"Open In Colab\"/></a>"
      ]
    },
    {
      "cell_type": "markdown",
      "metadata": {
        "id": "jf4gHX5zrCgM",
        "colab_type": "text"
      },
      "source": [
        "#See GPU and Memory assigned in Google Colabatory... "
      ]
    },
    {
      "cell_type": "markdown",
      "metadata": {
        "id": "ZA-RaLi4rQds",
        "colab_type": "text"
      },
      "source": [
        "##GPU"
      ]
    },
    {
      "cell_type": "code",
      "metadata": {
        "id": "I_yKPCTMrToJ",
        "colab_type": "code",
        "colab": {}
      },
      "source": [
        "gpu_info = !nvidia-smi\n",
        "gpu_info = '\\n'.join(gpu_info)\n",
        "if gpu_info.find('failed') >= 0:\n",
        "  print('Select the Runtime → \"Change runtime type\" menu to enable a GPU accelerator, ')\n",
        "  print('and then re-execute this cell.')\n",
        "else:\n",
        "  print(gpu_info)"
      ],
      "execution_count": 0,
      "outputs": []
    },
    {
      "cell_type": "markdown",
      "metadata": {
        "id": "Oyd1m1MArZfQ",
        "colab_type": "text"
      },
      "source": [
        "##Memory"
      ]
    },
    {
      "cell_type": "code",
      "metadata": {
        "id": "FktdcxLurcQ-",
        "colab_type": "code",
        "colab": {}
      },
      "source": [
        "from psutil import virtual_memory\n",
        "ram_gb = virtual_memory().total / 1e9\n",
        "print('Your runtime has {:.1f} gigabytes of available RAM\\n'.format(ram_gb))\n",
        "\n",
        "if ram_gb < 20:\n",
        "  print('To enable a high-RAM runtime, select the Runtime → \"Change runtime type\"')\n",
        "  print('menu, and then select High-RAM in the Runtime shape dropdown. Then, ')\n",
        "  print('re-execute this cell.')\n",
        "else:\n",
        "  print('You are using a high-RAM runtime!')"
      ],
      "execution_count": 0,
      "outputs": []
    }
  ]
}