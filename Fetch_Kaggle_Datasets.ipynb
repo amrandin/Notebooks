{
  "nbformat": 4,
  "nbformat_minor": 0,
  "metadata": {
    "colab": {
      "name": "Fetch_Kaggle_Datasets.ipynb",
      "provenance": [],
      "private_outputs": true,
      "collapsed_sections": [],
      "toc_visible": true,
      "authorship_tag": "ABX9TyMhKaSeLZsYwb2A6XAYSOME",
      "include_colab_link": true
    },
    "kernelspec": {
      "name": "python3",
      "display_name": "Python 3"
    }
  },
  "cells": [
    {
      "cell_type": "markdown",
      "metadata": {
        "id": "view-in-github",
        "colab_type": "text"
      },
      "source": [
        "<a href=\"https://colab.research.google.com/github/amrandin/Notebooks/blob/master/Fetch_Kaggle_Datasets.ipynb\" target=\"_parent\"><img src=\"https://colab.research.google.com/assets/colab-badge.svg\" alt=\"Open In Colab\"/></a>"
      ]
    },
    {
      "cell_type": "markdown",
      "metadata": {
        "id": "3OhJaUb1TpoP",
        "colab_type": "text"
      },
      "source": [
        "#Instructions to fetch Kaggle datasets into Google Colab. \n",
        "\n",
        "##Download your kaggle key (under Your Acocunt) and upload to a new folder in Google.\n",
        "![alt text](https://miro.medium.com/max/1400/1*rsqWlvLzJZ2cNy8wR4it-g.png)\n",
        "\n",
        "##1. Mount Google Drive "
      ]
    },
    {
      "cell_type": "code",
      "metadata": {
        "id": "y2gDCHLwTuvs",
        "colab_type": "code",
        "colab": {}
      },
      "source": [
        "from google.colab import drive\n",
        "drive.mount('/content/gdrive')"
      ],
      "execution_count": 0,
      "outputs": []
    },
    {
      "cell_type": "markdown",
      "metadata": {
        "id": "Pjlk4SO7UNVL",
        "colab_type": "text"
      },
      "source": [
        "##2. Set the config path to kaggle.json"
      ]
    },
    {
      "cell_type": "code",
      "metadata": {
        "id": "fW7hUSY5UXR6",
        "colab_type": "code",
        "colab": {}
      },
      "source": [
        "import os\n",
        "# /content/gdrive/My Drive/Kaggle is the path where kaggle.json is present in the Google Drive\n",
        "os.environ['KAGGLE_CONFIG_DIR'] = \"/content/gdrive/My Drive/Kaggle\""
      ],
      "execution_count": 0,
      "outputs": []
    },
    {
      "cell_type": "markdown",
      "metadata": {
        "id": "TfGshtA7UtzI",
        "colab_type": "text"
      },
      "source": [
        "##3. Change PWD"
      ]
    },
    {
      "cell_type": "code",
      "metadata": {
        "id": "oJtu8ZbAUxk_",
        "colab_type": "code",
        "colab": {}
      },
      "source": [
        "#changing the working directory\n",
        "%cd /content/gdrive/My Drive/Kaggle\n",
        "#Check the present working directory using pwd command"
      ],
      "execution_count": 0,
      "outputs": []
    },
    {
      "cell_type": "code",
      "metadata": {
        "id": "qAQGtNmgU7O9",
        "colab_type": "code",
        "colab": {}
      },
      "source": [
        "%pwd"
      ],
      "execution_count": 0,
      "outputs": []
    },
    {
      "cell_type": "markdown",
      "metadata": {
        "id": "bGu-DFTNVOpU",
        "colab_type": "text"
      },
      "source": [
        "##4. Download the kaggle dataset\n",
        "\n",
        "Go to kaggle and copy the API Command to download the dataset"
      ]
    },
    {
      "cell_type": "markdown",
      "metadata": {
        "id": "QwmXwmblV8yw",
        "colab_type": "text"
      },
      "source": [
        "![alt text](https://miro.medium.com/max/1400/1*EgvWkUzP0lMoDvxF6tBJLg.png)"
      ]
    },
    {
      "cell_type": "code",
      "metadata": {
        "id": "QiEsS9nGWDcw",
        "colab_type": "code",
        "colab": {}
      },
      "source": [
        "!kaggle datasets download -d datasnaek/youtube-new"
      ],
      "execution_count": 0,
      "outputs": []
    },
    {
      "cell_type": "markdown",
      "metadata": {
        "id": "Elvi7K_UX62t",
        "colab_type": "text"
      },
      "source": [
        "##5. Verify transfer"
      ]
    },
    {
      "cell_type": "code",
      "metadata": {
        "id": "Jj4b3xDTYAsG",
        "colab_type": "code",
        "colab": {}
      },
      "source": [
        "!ls"
      ],
      "execution_count": 0,
      "outputs": []
    },
    {
      "cell_type": "code",
      "metadata": {
        "id": "_4xnMlixYEEN",
        "colab_type": "code",
        "colab": {}
      },
      "source": [
        ""
      ],
      "execution_count": 0,
      "outputs": []
    },
    {
      "cell_type": "markdown",
      "metadata": {
        "id": "JqohUsWpYWnw",
        "colab_type": "text"
      },
      "source": [
        "##6. Unzip data file(s) and remove zip file"
      ]
    },
    {
      "cell_type": "code",
      "metadata": {
        "id": "EX3LFdYoYjnk",
        "colab_type": "code",
        "colab": {}
      },
      "source": [
        "#unzipping the zip files and deleting the zip files\n",
        "!unzip \\*.zip  && rm *.zip"
      ],
      "execution_count": 0,
      "outputs": []
    },
    {
      "cell_type": "code",
      "metadata": {
        "id": "WkZN_MqDYoqr",
        "colab_type": "code",
        "colab": {}
      },
      "source": [
        "!ls"
      ],
      "execution_count": 0,
      "outputs": []
    },
    {
      "cell_type": "markdown",
      "metadata": {
        "id": "6UO9uUYGY29k",
        "colab_type": "text"
      },
      "source": [
        "##The End!"
      ]
    },
    {
      "cell_type": "code",
      "metadata": {
        "id": "c9ZHbC-PY7BN",
        "colab_type": "code",
        "colab": {}
      },
      "source": [
        ""
      ],
      "execution_count": 0,
      "outputs": []
    }
  ]
}